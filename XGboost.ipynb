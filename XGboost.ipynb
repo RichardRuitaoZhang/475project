{
 "cells": [
  {
   "cell_type": "code",
   "execution_count": 1,
   "metadata": {},
   "outputs": [],
   "source": [
    "import pandas as pd\n",
    "from sklearn.preprocessing import MinMaxScaler, StandardScaler\n",
    "import pandas as pd\n",
    "from sklearn.model_selection import train_test_split\n",
    "from sklearn.metrics import accuracy_score,roc_auc_score,classification_report,recall_score,precision_score\n",
    "from sklearn.linear_model import LogisticRegression\n",
    "import xgboost as xgb\n",
    "import numpy as np\n",
    "from sklearn.model_selection import KFold\n",
    "\n",
    "def get_results(acc_list,auc_list,recall_list,precision_list):    \n",
    "    acc_list = np.array(acc_list)\n",
    "    auc_list = np.array(auc_list)\n",
    "    recall_list = np.array(recall_list)\n",
    "    precision_list = np.array(precision_list)\n",
    "    print(f'Recall, Average:{recall_list.mean():.4f}, Std:{recall_list.std():.4f}')\n",
    "    print(f'precision, Average:{precision_list.mean():.4f}, Std:{precision_list.std():.4f}')\n",
    "    print(f'Accuracy, Average:{acc_list.mean():.4f}, Std:{acc_list.std():.4f}')\n",
    "    print(f'AUC, Average:{auc_list.mean():.4f}, Std:{auc_list.std():.4f}')\n",
    "\n",
    "data = pd.read_csv('diabetes.csv')\n",
    "kf = KFold(n_splits=5, shuffle=True, random_state=42)\n",
    "\n",
    "folds = []\n",
    "for fold, (train_idx, val_idx) in enumerate(kf.split(data)):\n",
    "    train_data = data.iloc[train_idx]\n",
    "    val_data = data.iloc[val_idx]\n",
    "    folds.append((train_data, val_data))"
   ]
  },
  {
   "cell_type": "code",
   "execution_count": 2,
   "metadata": {},
   "outputs": [],
   "source": [
    "def get_results(acc_list,auc_list,recall_list,precision_list):    \n",
    "    acc_list = np.array(acc_list)\n",
    "    auc_list = np.array(auc_list)\n",
    "    recall_list = np.array(recall_list)\n",
    "    precision_list = np.array(precision_list)\n",
    "    print(f'Recall, Average:{recall_list.mean():.4f}, Std:{recall_list.std():.4f}')\n",
    "    print(f'precision, Average:{precision_list.mean():.4f}, Std:{precision_list.std():.4f}')\n",
    "    print(f'Accuracy, Average:{acc_list.mean():.4f}, Std:{acc_list.std():.4f}')\n",
    "    print(f'AUC, Average:{auc_list.mean():.4f}, Std:{auc_list.std():.4f}')"
   ]
  },
  {
   "cell_type": "code",
   "execution_count": 4,
   "metadata": {},
   "outputs": [
    {
     "name": "stdout",
     "output_type": "stream",
     "text": [
      "Taining Fold0 .....\n",
      "Taining Fold1 .....\n"
     ]
    },
    {
     "name": "stderr",
     "output_type": "stream",
     "text": [
      "/opt/anaconda3/envs/medical-image/lib/python3.10/site-packages/xgboost/core.py:158: UserWarning: [03:21:38] WARNING: /Users/runner/work/xgboost/xgboost/src/learner.cc:740: \n",
      "Parameters: { \"use_label_encoder\" } are not used.\n",
      "\n",
      "  warnings.warn(smsg, UserWarning)\n",
      "/opt/anaconda3/envs/medical-image/lib/python3.10/site-packages/xgboost/core.py:158: UserWarning: [03:21:38] WARNING: /Users/runner/work/xgboost/xgboost/src/learner.cc:740: \n",
      "Parameters: { \"use_label_encoder\" } are not used.\n",
      "\n",
      "  warnings.warn(smsg, UserWarning)\n"
     ]
    },
    {
     "name": "stdout",
     "output_type": "stream",
     "text": [
      "Taining Fold2 .....\n",
      "Taining Fold3 .....\n"
     ]
    },
    {
     "name": "stderr",
     "output_type": "stream",
     "text": [
      "/opt/anaconda3/envs/medical-image/lib/python3.10/site-packages/xgboost/core.py:158: UserWarning: [03:21:38] WARNING: /Users/runner/work/xgboost/xgboost/src/learner.cc:740: \n",
      "Parameters: { \"use_label_encoder\" } are not used.\n",
      "\n",
      "  warnings.warn(smsg, UserWarning)\n",
      "/opt/anaconda3/envs/medical-image/lib/python3.10/site-packages/xgboost/core.py:158: UserWarning: [03:21:38] WARNING: /Users/runner/work/xgboost/xgboost/src/learner.cc:740: \n",
      "Parameters: { \"use_label_encoder\" } are not used.\n",
      "\n",
      "  warnings.warn(smsg, UserWarning)\n"
     ]
    },
    {
     "name": "stdout",
     "output_type": "stream",
     "text": [
      "Taining Fold4 .....\n"
     ]
    },
    {
     "name": "stderr",
     "output_type": "stream",
     "text": [
      "/opt/anaconda3/envs/medical-image/lib/python3.10/site-packages/xgboost/core.py:158: UserWarning: [03:21:39] WARNING: /Users/runner/work/xgboost/xgboost/src/learner.cc:740: \n",
      "Parameters: { \"use_label_encoder\" } are not used.\n",
      "\n",
      "  warnings.warn(smsg, UserWarning)\n"
     ]
    },
    {
     "name": "stdout",
     "output_type": "stream",
     "text": [
      "Validation set\n",
      "Recall, Average:0.9572, Std:0.0129\n",
      "precision, Average:0.9412, Std:0.0077\n",
      "Accuracy, Average:0.9113, Std:0.0076\n",
      "AUC, Average:0.7894, Std:0.0222\n",
      "--------------------\n"
     ]
    }
   ],
   "source": [
    "val_acc_list = []\n",
    "val_auc_list = []\n",
    "val_recall_list = []\n",
    "val_precision_list = []\n",
    "\n",
    "for fold in range(5):\n",
    "        \n",
    "    print(f\"Taining Fold{fold} .....\")\n",
    "\n",
    "    tarin_data = folds[fold][0]\n",
    "    val_data = folds[fold][1]\n",
    "    \n",
    "    train_x = tarin_data.drop(columns=['label'])\n",
    "    train_y = tarin_data[[\"label\"]]\n",
    "\n",
    "    val_x = val_data.drop(columns=['label'])\n",
    "    val_y = val_data[[\"label\"]]\n",
    "\n",
    "    standard_scaler = StandardScaler()\n",
    "    train_x = standard_scaler.fit_transform(train_x)\n",
    "    val_x = standard_scaler.transform(val_x)\n",
    "    # ---------------------------------------------\n",
    "    model = xgb.XGBClassifier(use_label_encoder=False, eval_metric='auc', n_estimators=200,max_depth = 30,learning_rate=0.3)\n",
    "    # Train the model with validation data\n",
    "    model.fit(train_x, train_y, verbose=True)\n",
    "    \n",
    "    \n",
    "    # -------------------validation----------------\n",
    "    y_pred_proba = model.predict(val_x)  # Get probabilities for the positive class\n",
    "    y_pred = model.predict(val_x)\n",
    "\n",
    "    accuracy = accuracy_score(val_y, y_pred)\n",
    "    # print(f'Accuracy: {accuracy:.4f}')\n",
    "    val_acc_list.append(accuracy)\n",
    "    \n",
    "    auc_score = roc_auc_score(val_y, y_pred_proba)\n",
    "    # print(f'AUC Score: {auc_score:.4f}')\n",
    "    val_auc_list.append(auc_score)\n",
    "    \n",
    "    # Print the classification report\n",
    "    recall = recall_score(val_y, y_pred)\n",
    "    # print(f'Recall Score: {recall:.4f}')\n",
    "    val_recall_list.append(recall)\n",
    "    \n",
    "    precision = precision_score(val_y, y_pred)\n",
    "    # print(f'AUC Score: {precision:.4f}')\n",
    "    val_precision_list.append(precision)\n",
    "    \n",
    "    \n",
    "print('Validation set')\n",
    "get_results(val_acc_list,val_auc_list,val_recall_list,val_precision_list)\n",
    "print('--------------------')"
   ]
  }
 ],
 "metadata": {
  "kernelspec": {
   "display_name": "radiomics",
   "language": "python",
   "name": "python3"
  },
  "language_info": {
   "codemirror_mode": {
    "name": "ipython",
    "version": 3
   },
   "file_extension": ".py",
   "mimetype": "text/x-python",
   "name": "python",
   "nbconvert_exporter": "python",
   "pygments_lexer": "ipython3",
   "version": "3.10.15"
  }
 },
 "nbformat": 4,
 "nbformat_minor": 2
}
