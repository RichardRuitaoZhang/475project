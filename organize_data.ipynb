{
 "cells": [
  {
   "cell_type": "code",
   "execution_count": 34,
   "metadata": {},
   "outputs": [],
   "source": [
    "import pandas as pd\n",
    "import matplotlib.pyplot as plt"
   ]
  },
  {
   "cell_type": "code",
   "execution_count": 45,
   "metadata": {},
   "outputs": [],
   "source": [
    "data = pd.read_csv('merged_data_cleaned.csv')\n",
    "data = data[data['DIQ010']!=9]\n",
    "data = data[data['DIQ010']!=3]\n",
    "data = data.drop(columns=['SEQN'])\n",
    "data = data.rename(columns={'RIDAGEYR': 'age','RIAGENDR':'gender','RIDRETH1':'race','INDFMPIR':'IPR','BMXBMI':'BMI','BMXWAIST':'waist','LBXGLU':'glucose','DIQ010':'label','BPXSY1':'sys_bp','BPXDI1':\"dia_bp\"})\n",
    "data['label'] = data['label']-1"
   ]
  },
  {
   "cell_type": "code",
   "execution_count": 49,
   "metadata": {},
   "outputs": [],
   "source": [
    "data.to_csv('diabetes.csv',index=False)"
   ]
  }
 ],
 "metadata": {
  "kernelspec": {
   "display_name": "medical-image",
   "language": "python",
   "name": "python3"
  },
  "language_info": {
   "codemirror_mode": {
    "name": "ipython",
    "version": 3
   },
   "file_extension": ".py",
   "mimetype": "text/x-python",
   "name": "python",
   "nbconvert_exporter": "python",
   "pygments_lexer": "ipython3",
   "version": "3.10.15"
  }
 },
 "nbformat": 4,
 "nbformat_minor": 2
}
