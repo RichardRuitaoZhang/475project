{
 "cells": [
  {
   "cell_type": "code",
   "execution_count": 1,
   "metadata": {},
   "outputs": [],
   "source": [
    "import pandas as pd\n",
    "from sklearn.preprocessing import MinMaxScaler, StandardScaler\n",
    "import pandas as pd\n",
    "from sklearn.model_selection import train_test_split\n",
    "from sklearn.metrics import accuracy_score,roc_auc_score,classification_report,recall_score,precision_score\n",
    "from sklearn.svm import SVC\n",
    "import xgboost as xgb\n",
    "import numpy as np\n",
    "from sklearn.model_selection import KFold"
   ]
  },
  {
   "cell_type": "code",
   "execution_count": 2,
   "metadata": {},
   "outputs": [],
   "source": [
    "def get_results(acc_list,auc_list,recall_list,precision_list):    \n",
    "    acc_list = np.array(acc_list)\n",
    "    auc_list = np.array(auc_list)\n",
    "    recall_list = np.array(recall_list)\n",
    "    precision_list = np.array(precision_list)\n",
    "    print(f'Recall, Average:{recall_list.mean():.4f}, Std:{recall_list.std():.4f}')\n",
    "    print(f'precision, Average:{precision_list.mean():.4f}, Std:{precision_list.std():.4f}')\n",
    "    print(f'Accuracy, Average:{acc_list.mean():.4f}, Std:{acc_list.std():.4f}')\n",
    "    print(f'AUC, Average:{auc_list.mean():.4f}, Std:{auc_list.std():.4f}')"
   ]
  },
  {
   "cell_type": "code",
   "execution_count": 3,
   "metadata": {},
   "outputs": [],
   "source": [
    "data = pd.read_csv('diabetes.csv')\n",
    "kf = KFold(n_splits=5, shuffle=True, random_state=42)\n",
    "\n",
    "folds = []\n",
    "for fold, (train_idx, val_idx) in enumerate(kf.split(data)):\n",
    "    train_data = data.iloc[train_idx]\n",
    "    val_data = data.iloc[val_idx]\n",
    "    folds.append((train_data, val_data))"
   ]
  },
  {
   "cell_type": "code",
   "execution_count": 7,
   "metadata": {},
   "outputs": [
    {
     "name": "stdout",
     "output_type": "stream",
     "text": [
      "Taining Fold0 .....\n"
     ]
    },
    {
     "name": "stderr",
     "output_type": "stream",
     "text": [
      "/opt/anaconda3/envs/medical-image/lib/python3.10/site-packages/sklearn/utils/validation.py:1339: DataConversionWarning: A column-vector y was passed when a 1d array was expected. Please change the shape of y to (n_samples, ), for example using ravel().\n",
      "  y = column_or_1d(y, warn=True)\n"
     ]
    },
    {
     "name": "stdout",
     "output_type": "stream",
     "text": [
      "Taining Fold1 .....\n"
     ]
    },
    {
     "name": "stderr",
     "output_type": "stream",
     "text": [
      "/opt/anaconda3/envs/medical-image/lib/python3.10/site-packages/sklearn/utils/validation.py:1339: DataConversionWarning: A column-vector y was passed when a 1d array was expected. Please change the shape of y to (n_samples, ), for example using ravel().\n",
      "  y = column_or_1d(y, warn=True)\n"
     ]
    },
    {
     "name": "stdout",
     "output_type": "stream",
     "text": [
      "Taining Fold2 .....\n"
     ]
    },
    {
     "name": "stderr",
     "output_type": "stream",
     "text": [
      "/opt/anaconda3/envs/medical-image/lib/python3.10/site-packages/sklearn/utils/validation.py:1339: DataConversionWarning: A column-vector y was passed when a 1d array was expected. Please change the shape of y to (n_samples, ), for example using ravel().\n",
      "  y = column_or_1d(y, warn=True)\n"
     ]
    },
    {
     "name": "stdout",
     "output_type": "stream",
     "text": [
      "Taining Fold3 .....\n"
     ]
    },
    {
     "name": "stderr",
     "output_type": "stream",
     "text": [
      "/opt/anaconda3/envs/medical-image/lib/python3.10/site-packages/sklearn/utils/validation.py:1339: DataConversionWarning: A column-vector y was passed when a 1d array was expected. Please change the shape of y to (n_samples, ), for example using ravel().\n",
      "  y = column_or_1d(y, warn=True)\n"
     ]
    },
    {
     "name": "stdout",
     "output_type": "stream",
     "text": [
      "Taining Fold4 .....\n"
     ]
    },
    {
     "name": "stderr",
     "output_type": "stream",
     "text": [
      "/opt/anaconda3/envs/medical-image/lib/python3.10/site-packages/sklearn/utils/validation.py:1339: DataConversionWarning: A column-vector y was passed when a 1d array was expected. Please change the shape of y to (n_samples, ), for example using ravel().\n",
      "  y = column_or_1d(y, warn=True)\n"
     ]
    },
    {
     "name": "stdout",
     "output_type": "stream",
     "text": [
      "Validation set\n",
      "Recall, Average:0.9692, Std:0.0097\n",
      "precision, Average:0.9346, Std:0.0157\n",
      "Accuracy, Average:0.9146, Std:0.0133\n",
      "AUC, Average:0.7705, Std:0.0464\n",
      "--------------------\n"
     ]
    }
   ],
   "source": [
    "val_acc_list = []\n",
    "val_auc_list = []\n",
    "val_recall_list = []\n",
    "val_precision_list = []\n",
    "\n",
    "for fold in range(5):\n",
    "        \n",
    "    print(f\"Taining Fold{fold} .....\")\n",
    "\n",
    "    tarin_data = folds[fold][0]\n",
    "    val_data = folds[fold][1]\n",
    "    \n",
    "    train_x = tarin_data.drop(columns=['label'])\n",
    "    train_y = tarin_data[[\"label\"]]\n",
    "\n",
    "    val_x = val_data.drop(columns=['label'])\n",
    "    val_y = val_data[[\"label\"]]\n",
    "\n",
    "    standard_scaler = StandardScaler()\n",
    "    train_x = standard_scaler.fit_transform(train_x)\n",
    "    val_x = standard_scaler.transform(val_x)\n",
    "    # ---------------------------------------------\n",
    "    model = SVC(kernel='rbf',probability=True,C=5)\n",
    "    # Train the model with validation data\n",
    "    model.fit(train_x, train_y)\n",
    "    \n",
    "    \n",
    "    # -------------------validation----------------\n",
    "    y_pred_proba = model.predict(val_x)  # Get probabilities for the positive class\n",
    "    y_pred = model.predict(val_x)\n",
    "\n",
    "    accuracy = accuracy_score(val_y, y_pred)\n",
    "    # print(f'Accuracy: {accuracy:.4f}')\n",
    "    val_acc_list.append(accuracy)\n",
    "    \n",
    "    auc_score = roc_auc_score(val_y, y_pred_proba)\n",
    "    # print(f'AUC Score: {auc_score:.4f}')\n",
    "    val_auc_list.append(auc_score)\n",
    "    \n",
    "    # Print the classification report\n",
    "    recall = recall_score(val_y, y_pred)\n",
    "    # print(f'Recall Score: {recall:.4f}')\n",
    "    val_recall_list.append(recall)\n",
    "    \n",
    "    precision = precision_score(val_y, y_pred)\n",
    "    # print(f'AUC Score: {precision:.4f}')\n",
    "    val_precision_list.append(precision)\n",
    "    \n",
    "    \n",
    "print('Validation set')\n",
    "get_results(val_acc_list,val_auc_list,val_recall_list,val_precision_list)\n",
    "print('--------------------')"
   ]
  }
 ],
 "metadata": {
  "kernelspec": {
   "display_name": "radiomics",
   "language": "python",
   "name": "python3"
  },
  "language_info": {
   "codemirror_mode": {
    "name": "ipython",
    "version": 3
   },
   "file_extension": ".py",
   "mimetype": "text/x-python",
   "name": "python",
   "nbconvert_exporter": "python",
   "pygments_lexer": "ipython3",
   "version": "3.10.15"
  }
 },
 "nbformat": 4,
 "nbformat_minor": 2
}
